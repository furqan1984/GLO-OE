{
  "nbformat": 4,
  "nbformat_minor": 0,
  "metadata": {
    "colab": {
      "name": "Sentiment Analysis.ipynb",
      "provenance": [],
      "authorship_tag": "ABX9TyNCEKSnCl7aP7v0vbzPcNh2",
      "include_colab_link": true
    },
    "kernelspec": {
      "name": "python3",
      "display_name": "Python 3"
    },
    "accelerator": "GPU"
  },
  "cells": [
    {
      "cell_type": "markdown",
      "metadata": {
        "id": "view-in-github",
        "colab_type": "text"
      },
      "source": [
        "<a href=\"https://colab.research.google.com/github/furqan1984/GLO-OE/blob/main/SA_Coaching_Surveys.ipynb\" target=\"_parent\"><img src=\"https://colab.research.google.com/assets/colab-badge.svg\" alt=\"Open In Colab\"/></a>"
      ]
    },
    {
      "cell_type": "code",
      "metadata": {
        "colab": {
          "base_uri": "https://localhost:8080/"
        },
        "id": "ibDCD1QldnEV",
        "outputId": "1f63abbb-1c2d-4a79-e8fe-ae3141d0b212"
      },
      "source": [
        "!pip install transformers"
      ],
      "execution_count": 1,
      "outputs": [
        {
          "output_type": "stream",
          "text": [
            "Requirement already satisfied: transformers in /usr/local/lib/python3.6/dist-packages (4.3.2)\n",
            "Requirement already satisfied: filelock in /usr/local/lib/python3.6/dist-packages (from transformers) (3.0.12)\n",
            "Requirement already satisfied: dataclasses; python_version < \"3.7\" in /usr/local/lib/python3.6/dist-packages (from transformers) (0.8)\n",
            "Requirement already satisfied: tqdm>=4.27 in /usr/local/lib/python3.6/dist-packages (from transformers) (4.41.1)\n",
            "Requirement already satisfied: sacremoses in /usr/local/lib/python3.6/dist-packages (from transformers) (0.0.43)\n",
            "Requirement already satisfied: packaging in /usr/local/lib/python3.6/dist-packages (from transformers) (20.9)\n",
            "Requirement already satisfied: importlib-metadata; python_version < \"3.8\" in /usr/local/lib/python3.6/dist-packages (from transformers) (3.4.0)\n",
            "Requirement already satisfied: requests in /usr/local/lib/python3.6/dist-packages (from transformers) (2.23.0)\n",
            "Requirement already satisfied: numpy>=1.17 in /usr/local/lib/python3.6/dist-packages (from transformers) (1.19.5)\n",
            "Requirement already satisfied: tokenizers<0.11,>=0.10.1 in /usr/local/lib/python3.6/dist-packages (from transformers) (0.10.1)\n",
            "Requirement already satisfied: regex!=2019.12.17 in /usr/local/lib/python3.6/dist-packages (from transformers) (2019.12.20)\n",
            "Requirement already satisfied: six in /usr/local/lib/python3.6/dist-packages (from sacremoses->transformers) (1.15.0)\n",
            "Requirement already satisfied: joblib in /usr/local/lib/python3.6/dist-packages (from sacremoses->transformers) (1.0.0)\n",
            "Requirement already satisfied: click in /usr/local/lib/python3.6/dist-packages (from sacremoses->transformers) (7.1.2)\n",
            "Requirement already satisfied: pyparsing>=2.0.2 in /usr/local/lib/python3.6/dist-packages (from packaging->transformers) (2.4.7)\n",
            "Requirement already satisfied: typing-extensions>=3.6.4; python_version < \"3.8\" in /usr/local/lib/python3.6/dist-packages (from importlib-metadata; python_version < \"3.8\"->transformers) (3.7.4.3)\n",
            "Requirement already satisfied: zipp>=0.5 in /usr/local/lib/python3.6/dist-packages (from importlib-metadata; python_version < \"3.8\"->transformers) (3.4.0)\n",
            "Requirement already satisfied: certifi>=2017.4.17 in /usr/local/lib/python3.6/dist-packages (from requests->transformers) (2020.12.5)\n",
            "Requirement already satisfied: idna<3,>=2.5 in /usr/local/lib/python3.6/dist-packages (from requests->transformers) (2.10)\n",
            "Requirement already satisfied: urllib3!=1.25.0,!=1.25.1,<1.26,>=1.21.1 in /usr/local/lib/python3.6/dist-packages (from requests->transformers) (1.24.3)\n",
            "Requirement already satisfied: chardet<4,>=3.0.2 in /usr/local/lib/python3.6/dist-packages (from requests->transformers) (3.0.4)\n"
          ],
          "name": "stdout"
        }
      ]
    },
    {
      "cell_type": "code",
      "metadata": {
        "id": "NDHCF9A-dtY2"
      },
      "source": [
        "from transformers import pipeline"
      ],
      "execution_count": 2,
      "outputs": []
    },
    {
      "cell_type": "code",
      "metadata": {
        "id": "xV_25u3HkuXQ"
      },
      "source": [
        "import pandas as pd\r\n",
        "df = pd.read_csv('coaching.csv')"
      ],
      "execution_count": 3,
      "outputs": []
    },
    {
      "cell_type": "code",
      "metadata": {
        "id": "A-e_w5LBk0jt",
        "outputId": "66c91549-d1b0-4422-d01c-1408f975d0a6",
        "colab": {
          "base_uri": "https://localhost:8080/",
          "height": 402
        }
      },
      "source": [
        "df"
      ],
      "execution_count": 4,
      "outputs": [
        {
          "output_type": "execute_result",
          "data": {
            "text/html": [
              "<div>\n",
              "<style scoped>\n",
              "    .dataframe tbody tr th:only-of-type {\n",
              "        vertical-align: middle;\n",
              "    }\n",
              "\n",
              "    .dataframe tbody tr th {\n",
              "        vertical-align: top;\n",
              "    }\n",
              "\n",
              "    .dataframe thead th {\n",
              "        text-align: right;\n",
              "    }\n",
              "</style>\n",
              "<table border=\"1\" class=\"dataframe\">\n",
              "  <thead>\n",
              "    <tr style=\"text-align: right;\">\n",
              "      <th></th>\n",
              "      <th>expectations?</th>\n",
              "      <th>Completed</th>\n",
              "      <th>Last Modified</th>\n",
              "    </tr>\n",
              "  </thead>\n",
              "  <tbody>\n",
              "    <tr>\n",
              "      <th>0</th>\n",
              "      <td>Amanda was great!</td>\n",
              "      <td>01/02/2018 9:16</td>\n",
              "      <td>01/02/2018 9:16</td>\n",
              "    </tr>\n",
              "    <tr>\n",
              "      <th>1</th>\n",
              "      <td>The Coaching experience was a valuable use of ...</td>\n",
              "      <td>01/02/2018 10:44</td>\n",
              "      <td>01/02/2018 10:44</td>\n",
              "    </tr>\n",
              "    <tr>\n",
              "      <th>2</th>\n",
              "      <td>Yes, I really enjoyed working with my coach, S...</td>\n",
              "      <td>01/02/2018 11:09</td>\n",
              "      <td>01/02/2018 11:09</td>\n",
              "    </tr>\n",
              "    <tr>\n",
              "      <th>3</th>\n",
              "      <td>The coaching session met my expectations both ...</td>\n",
              "      <td>01/02/2018 11:09</td>\n",
              "      <td>01/02/2018 11:09</td>\n",
              "    </tr>\n",
              "    <tr>\n",
              "      <th>4</th>\n",
              "      <td>Well exceeded my expectations. It was one of t...</td>\n",
              "      <td>01/02/2018 13:28</td>\n",
              "      <td>01/02/2018 13:28</td>\n",
              "    </tr>\n",
              "    <tr>\n",
              "      <th>...</th>\n",
              "      <td>...</td>\n",
              "      <td>...</td>\n",
              "      <td>...</td>\n",
              "    </tr>\n",
              "    <tr>\n",
              "      <th>298</th>\n",
              "      <td>Yes.  Cybelle was just great.   We had an imme...</td>\n",
              "      <td>02/10/2021 8:50</td>\n",
              "      <td>02/10/2021 8:50</td>\n",
              "    </tr>\n",
              "    <tr>\n",
              "      <th>299</th>\n",
              "      <td>Yes, I was paired with a great coach who outli...</td>\n",
              "      <td>02/12/2021 16:12</td>\n",
              "      <td>02/12/2021 16:12</td>\n",
              "    </tr>\n",
              "    <tr>\n",
              "      <th>300</th>\n",
              "      <td>Yes,\\ngot different perspectives of peer mgmt,...</td>\n",
              "      <td>02/13/2021 7:01</td>\n",
              "      <td>02/13/2021 7:01</td>\n",
              "    </tr>\n",
              "    <tr>\n",
              "      <th>301</th>\n",
              "      <td>Shalini is a superb coach ! She have got the s...</td>\n",
              "      <td>02/15/2021 7:34</td>\n",
              "      <td>02/15/2021 7:34</td>\n",
              "    </tr>\n",
              "    <tr>\n",
              "      <th>302</th>\n",
              "      <td>Yes, Carol my coach was super good, she provid...</td>\n",
              "      <td>02/15/2021 8:53</td>\n",
              "      <td>02/15/2021 8:53</td>\n",
              "    </tr>\n",
              "  </tbody>\n",
              "</table>\n",
              "<p>303 rows × 3 columns</p>\n",
              "</div>"
            ],
            "text/plain": [
              "                                         expectations?  ...     Last Modified\n",
              "0                                    Amanda was great!  ...   01/02/2018 9:16\n",
              "1    The Coaching experience was a valuable use of ...  ...  01/02/2018 10:44\n",
              "2    Yes, I really enjoyed working with my coach, S...  ...  01/02/2018 11:09\n",
              "3    The coaching session met my expectations both ...  ...  01/02/2018 11:09\n",
              "4    Well exceeded my expectations. It was one of t...  ...  01/02/2018 13:28\n",
              "..                                                 ...  ...               ...\n",
              "298  Yes.  Cybelle was just great.   We had an imme...  ...   02/10/2021 8:50\n",
              "299  Yes, I was paired with a great coach who outli...  ...  02/12/2021 16:12\n",
              "300  Yes,\\ngot different perspectives of peer mgmt,...  ...   02/13/2021 7:01\n",
              "301  Shalini is a superb coach ! She have got the s...  ...   02/15/2021 7:34\n",
              "302  Yes, Carol my coach was super good, she provid...  ...   02/15/2021 8:53\n",
              "\n",
              "[303 rows x 3 columns]"
            ]
          },
          "metadata": {
            "tags": []
          },
          "execution_count": 4
        }
      ]
    },
    {
      "cell_type": "code",
      "metadata": {
        "id": "la4VyE25lEaf"
      },
      "source": [
        ""
      ],
      "execution_count": 4,
      "outputs": []
    },
    {
      "cell_type": "code",
      "metadata": {
        "id": "55B62IYedzCi"
      },
      "source": [
        "cls = pipeline('sentiment-analysis', device=0)"
      ],
      "execution_count": 5,
      "outputs": []
    },
    {
      "cell_type": "code",
      "metadata": {
        "id": "cIViZc36eC6H"
      },
      "source": [
        "def get_preds(sentence):\r\n",
        "    return cls(sentence)[0]['label']"
      ],
      "execution_count": 13,
      "outputs": []
    },
    {
      "cell_type": "code",
      "metadata": {
        "id": "b3qRR8hinfQl"
      },
      "source": [
        "df['predictions'] = df['expectations?'].apply(lambda x: get_preds(x))"
      ],
      "execution_count": 14,
      "outputs": []
    },
    {
      "cell_type": "code",
      "metadata": {
        "id": "h30lse3doCxE",
        "outputId": "e7c75e4c-9c60-4f7b-db7e-41ebcf7685dd",
        "colab": {
          "base_uri": "https://localhost:8080/",
          "height": 402
        }
      },
      "source": [
        "df"
      ],
      "execution_count": 15,
      "outputs": [
        {
          "output_type": "execute_result",
          "data": {
            "text/html": [
              "<div>\n",
              "<style scoped>\n",
              "    .dataframe tbody tr th:only-of-type {\n",
              "        vertical-align: middle;\n",
              "    }\n",
              "\n",
              "    .dataframe tbody tr th {\n",
              "        vertical-align: top;\n",
              "    }\n",
              "\n",
              "    .dataframe thead th {\n",
              "        text-align: right;\n",
              "    }\n",
              "</style>\n",
              "<table border=\"1\" class=\"dataframe\">\n",
              "  <thead>\n",
              "    <tr style=\"text-align: right;\">\n",
              "      <th></th>\n",
              "      <th>expectations?</th>\n",
              "      <th>Completed</th>\n",
              "      <th>Last Modified</th>\n",
              "      <th>predictions</th>\n",
              "    </tr>\n",
              "  </thead>\n",
              "  <tbody>\n",
              "    <tr>\n",
              "      <th>0</th>\n",
              "      <td>Amanda was great!</td>\n",
              "      <td>01/02/2018 9:16</td>\n",
              "      <td>01/02/2018 9:16</td>\n",
              "      <td>POSITIVE</td>\n",
              "    </tr>\n",
              "    <tr>\n",
              "      <th>1</th>\n",
              "      <td>The Coaching experience was a valuable use of ...</td>\n",
              "      <td>01/02/2018 10:44</td>\n",
              "      <td>01/02/2018 10:44</td>\n",
              "      <td>NEGATIVE</td>\n",
              "    </tr>\n",
              "    <tr>\n",
              "      <th>2</th>\n",
              "      <td>Yes, I really enjoyed working with my coach, S...</td>\n",
              "      <td>01/02/2018 11:09</td>\n",
              "      <td>01/02/2018 11:09</td>\n",
              "      <td>POSITIVE</td>\n",
              "    </tr>\n",
              "    <tr>\n",
              "      <th>3</th>\n",
              "      <td>The coaching session met my expectations both ...</td>\n",
              "      <td>01/02/2018 11:09</td>\n",
              "      <td>01/02/2018 11:09</td>\n",
              "      <td>POSITIVE</td>\n",
              "    </tr>\n",
              "    <tr>\n",
              "      <th>4</th>\n",
              "      <td>Well exceeded my expectations. It was one of t...</td>\n",
              "      <td>01/02/2018 13:28</td>\n",
              "      <td>01/02/2018 13:28</td>\n",
              "      <td>POSITIVE</td>\n",
              "    </tr>\n",
              "    <tr>\n",
              "      <th>...</th>\n",
              "      <td>...</td>\n",
              "      <td>...</td>\n",
              "      <td>...</td>\n",
              "      <td>...</td>\n",
              "    </tr>\n",
              "    <tr>\n",
              "      <th>298</th>\n",
              "      <td>Yes.  Cybelle was just great.   We had an imme...</td>\n",
              "      <td>02/10/2021 8:50</td>\n",
              "      <td>02/10/2021 8:50</td>\n",
              "      <td>POSITIVE</td>\n",
              "    </tr>\n",
              "    <tr>\n",
              "      <th>299</th>\n",
              "      <td>Yes, I was paired with a great coach who outli...</td>\n",
              "      <td>02/12/2021 16:12</td>\n",
              "      <td>02/12/2021 16:12</td>\n",
              "      <td>POSITIVE</td>\n",
              "    </tr>\n",
              "    <tr>\n",
              "      <th>300</th>\n",
              "      <td>Yes,\\ngot different perspectives of peer mgmt,...</td>\n",
              "      <td>02/13/2021 7:01</td>\n",
              "      <td>02/13/2021 7:01</td>\n",
              "      <td>POSITIVE</td>\n",
              "    </tr>\n",
              "    <tr>\n",
              "      <th>301</th>\n",
              "      <td>Shalini is a superb coach ! She have got the s...</td>\n",
              "      <td>02/15/2021 7:34</td>\n",
              "      <td>02/15/2021 7:34</td>\n",
              "      <td>POSITIVE</td>\n",
              "    </tr>\n",
              "    <tr>\n",
              "      <th>302</th>\n",
              "      <td>Yes, Carol my coach was super good, she provid...</td>\n",
              "      <td>02/15/2021 8:53</td>\n",
              "      <td>02/15/2021 8:53</td>\n",
              "      <td>POSITIVE</td>\n",
              "    </tr>\n",
              "  </tbody>\n",
              "</table>\n",
              "<p>303 rows × 4 columns</p>\n",
              "</div>"
            ],
            "text/plain": [
              "                                         expectations?  ... predictions\n",
              "0                                    Amanda was great!  ...    POSITIVE\n",
              "1    The Coaching experience was a valuable use of ...  ...    NEGATIVE\n",
              "2    Yes, I really enjoyed working with my coach, S...  ...    POSITIVE\n",
              "3    The coaching session met my expectations both ...  ...    POSITIVE\n",
              "4    Well exceeded my expectations. It was one of t...  ...    POSITIVE\n",
              "..                                                 ...  ...         ...\n",
              "298  Yes.  Cybelle was just great.   We had an imme...  ...    POSITIVE\n",
              "299  Yes, I was paired with a great coach who outli...  ...    POSITIVE\n",
              "300  Yes,\\ngot different perspectives of peer mgmt,...  ...    POSITIVE\n",
              "301  Shalini is a superb coach ! She have got the s...  ...    POSITIVE\n",
              "302  Yes, Carol my coach was super good, she provid...  ...    POSITIVE\n",
              "\n",
              "[303 rows x 4 columns]"
            ]
          },
          "metadata": {
            "tags": []
          },
          "execution_count": 15
        }
      ]
    },
    {
      "cell_type": "code",
      "metadata": {
        "id": "2Hj10bkboEGi"
      },
      "source": [
        "df.to_csv('predictions.csv')"
      ],
      "execution_count": 16,
      "outputs": []
    },
    {
      "cell_type": "code",
      "metadata": {
        "id": "Q1xRJxngobXR"
      },
      "source": [
        ""
      ],
      "execution_count": null,
      "outputs": []
    }
  ]
}